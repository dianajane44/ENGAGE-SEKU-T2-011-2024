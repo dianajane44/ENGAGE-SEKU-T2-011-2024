{
 "cells": [
  {
   "cell_type": "code",
   "execution_count": 1,
   "id": "718de864-a569-461f-b6ee-8ea589dedd72",
   "metadata": {},
   "outputs": [
    {
     "data": {
      "text/html": [
       "<div>\n",
       "<style scoped>\n",
       "    .dataframe tbody tr th:only-of-type {\n",
       "        vertical-align: middle;\n",
       "    }\n",
       "\n",
       "    .dataframe tbody tr th {\n",
       "        vertical-align: top;\n",
       "    }\n",
       "\n",
       "    .dataframe thead th {\n",
       "        text-align: right;\n",
       "    }\n",
       "</style>\n",
       "<table border=\"1\" class=\"dataframe\">\n",
       "  <thead>\n",
       "    <tr style=\"text-align: right;\">\n",
       "      <th></th>\n",
       "      <th>Gender</th>\n",
       "      <th>Age</th>\n",
       "      <th>Education_Level</th>\n",
       "      <th>Socio_Economic_Status</th>\n",
       "      <th>Type_of_Substance</th>\n",
       "      <th>Frequency_of_Use</th>\n",
       "      <th>Duration_of_Use</th>\n",
       "      <th>Quantity_Used</th>\n",
       "      <th>Self_Esteem</th>\n",
       "      <th>Mental_Health</th>\n",
       "      <th>Employment</th>\n",
       "      <th>Income_Level</th>\n",
       "      <th>Drug_User</th>\n",
       "    </tr>\n",
       "  </thead>\n",
       "  <tbody>\n",
       "    <tr>\n",
       "      <th>0</th>\n",
       "      <td>Male</td>\n",
       "      <td>35</td>\n",
       "      <td>Master</td>\n",
       "      <td>High</td>\n",
       "      <td>Nicotine</td>\n",
       "      <td>Daily</td>\n",
       "      <td>15</td>\n",
       "      <td>2</td>\n",
       "      <td>4</td>\n",
       "      <td>9</td>\n",
       "      <td>Employed</td>\n",
       "      <td>80598</td>\n",
       "      <td>0</td>\n",
       "    </tr>\n",
       "    <tr>\n",
       "      <th>1</th>\n",
       "      <td>Female</td>\n",
       "      <td>56</td>\n",
       "      <td>NaN</td>\n",
       "      <td>Middle</td>\n",
       "      <td>Nicotine</td>\n",
       "      <td>Rarely</td>\n",
       "      <td>11</td>\n",
       "      <td>6</td>\n",
       "      <td>2</td>\n",
       "      <td>2</td>\n",
       "      <td>Unemployed</td>\n",
       "      <td>20417</td>\n",
       "      <td>0</td>\n",
       "    </tr>\n",
       "    <tr>\n",
       "      <th>2</th>\n",
       "      <td>Male</td>\n",
       "      <td>32</td>\n",
       "      <td>Bachelor</td>\n",
       "      <td>Low</td>\n",
       "      <td>Cannabis</td>\n",
       "      <td>Rarely</td>\n",
       "      <td>8</td>\n",
       "      <td>5</td>\n",
       "      <td>8</td>\n",
       "      <td>8</td>\n",
       "      <td>Unemployed</td>\n",
       "      <td>53931</td>\n",
       "      <td>0</td>\n",
       "    </tr>\n",
       "    <tr>\n",
       "      <th>3</th>\n",
       "      <td>Male</td>\n",
       "      <td>55</td>\n",
       "      <td>NaN</td>\n",
       "      <td>Middle</td>\n",
       "      <td>Other</td>\n",
       "      <td>Frequently</td>\n",
       "      <td>9</td>\n",
       "      <td>8</td>\n",
       "      <td>5</td>\n",
       "      <td>2</td>\n",
       "      <td>Employed</td>\n",
       "      <td>53307</td>\n",
       "      <td>0</td>\n",
       "    </tr>\n",
       "    <tr>\n",
       "      <th>4</th>\n",
       "      <td>Male</td>\n",
       "      <td>41</td>\n",
       "      <td>Master</td>\n",
       "      <td>Middle</td>\n",
       "      <td>Other</td>\n",
       "      <td>Frequently</td>\n",
       "      <td>5</td>\n",
       "      <td>2</td>\n",
       "      <td>5</td>\n",
       "      <td>9</td>\n",
       "      <td>Employed</td>\n",
       "      <td>96997</td>\n",
       "      <td>1</td>\n",
       "    </tr>\n",
       "  </tbody>\n",
       "</table>\n",
       "</div>"
      ],
      "text/plain": [
       "   Gender  Age Education_Level Socio_Economic_Status Type_of_Substance  \\\n",
       "0    Male   35          Master                  High          Nicotine   \n",
       "1  Female   56             NaN                Middle          Nicotine   \n",
       "2    Male   32        Bachelor                   Low          Cannabis   \n",
       "3    Male   55             NaN                Middle             Other   \n",
       "4    Male   41          Master                Middle             Other   \n",
       "\n",
       "  Frequency_of_Use  Duration_of_Use  Quantity_Used  Self_Esteem  \\\n",
       "0            Daily               15              2            4   \n",
       "1           Rarely               11              6            2   \n",
       "2           Rarely                8              5            8   \n",
       "3       Frequently                9              8            5   \n",
       "4       Frequently                5              2            5   \n",
       "\n",
       "   Mental_Health  Employment  Income_Level  Drug_User  \n",
       "0              9    Employed         80598          0  \n",
       "1              2  Unemployed         20417          0  \n",
       "2              8  Unemployed         53931          0  \n",
       "3              2    Employed         53307          0  \n",
       "4              9    Employed         96997          1  "
      ]
     },
     "execution_count": 1,
     "metadata": {},
     "output_type": "execute_result"
    }
   ],
   "source": [
    "import pandas as pd\n",
    "df=pd.read_csv(\"drug_usage2.csv\")\n",
    "df.head()"
   ]
  },
  {
   "cell_type": "code",
   "execution_count": 2,
   "id": "04f0d08a-d040-4d64-a209-bcd6243a6fdc",
   "metadata": {},
   "outputs": [
    {
     "data": {
      "text/html": [
       "<div>\n",
       "<style scoped>\n",
       "    .dataframe tbody tr th:only-of-type {\n",
       "        vertical-align: middle;\n",
       "    }\n",
       "\n",
       "    .dataframe tbody tr th {\n",
       "        vertical-align: top;\n",
       "    }\n",
       "\n",
       "    .dataframe thead th {\n",
       "        text-align: right;\n",
       "    }\n",
       "</style>\n",
       "<table border=\"1\" class=\"dataframe\">\n",
       "  <thead>\n",
       "    <tr style=\"text-align: right;\">\n",
       "      <th></th>\n",
       "      <th>Gender</th>\n",
       "      <th>Age</th>\n",
       "      <th>Education_Level</th>\n",
       "      <th>Socio_Economic_Status</th>\n",
       "      <th>Type_of_Substance</th>\n",
       "      <th>Frequency_of_Use</th>\n",
       "      <th>Duration_of_Use</th>\n",
       "      <th>Quantity_Used</th>\n",
       "      <th>Self_Esteem</th>\n",
       "      <th>Mental_Health</th>\n",
       "      <th>Employment</th>\n",
       "      <th>Income_Level</th>\n",
       "      <th>Drug_User</th>\n",
       "    </tr>\n",
       "  </thead>\n",
       "  <tbody>\n",
       "    <tr>\n",
       "      <th>20295</th>\n",
       "      <td>Female</td>\n",
       "      <td>32</td>\n",
       "      <td>PhD</td>\n",
       "      <td>High</td>\n",
       "      <td>Alcohol</td>\n",
       "      <td>Frequently</td>\n",
       "      <td>9</td>\n",
       "      <td>8</td>\n",
       "      <td>4</td>\n",
       "      <td>9</td>\n",
       "      <td>Unemployed</td>\n",
       "      <td>20592</td>\n",
       "      <td>1</td>\n",
       "    </tr>\n",
       "    <tr>\n",
       "      <th>20296</th>\n",
       "      <td>Male</td>\n",
       "      <td>26</td>\n",
       "      <td>Bachelor</td>\n",
       "      <td>Middle</td>\n",
       "      <td>Other</td>\n",
       "      <td>Daily</td>\n",
       "      <td>4</td>\n",
       "      <td>3</td>\n",
       "      <td>4</td>\n",
       "      <td>6</td>\n",
       "      <td>Employed</td>\n",
       "      <td>22719</td>\n",
       "      <td>1</td>\n",
       "    </tr>\n",
       "    <tr>\n",
       "      <th>20297</th>\n",
       "      <td>Female</td>\n",
       "      <td>44</td>\n",
       "      <td>Bachelor</td>\n",
       "      <td>Low</td>\n",
       "      <td>Other</td>\n",
       "      <td>Rarely</td>\n",
       "      <td>8</td>\n",
       "      <td>6</td>\n",
       "      <td>4</td>\n",
       "      <td>5</td>\n",
       "      <td>Unemployed</td>\n",
       "      <td>38293</td>\n",
       "      <td>1</td>\n",
       "    </tr>\n",
       "    <tr>\n",
       "      <th>20298</th>\n",
       "      <td>Female</td>\n",
       "      <td>25</td>\n",
       "      <td>NaN</td>\n",
       "      <td>High</td>\n",
       "      <td>Alcohol</td>\n",
       "      <td>Occasionally</td>\n",
       "      <td>3</td>\n",
       "      <td>9</td>\n",
       "      <td>7</td>\n",
       "      <td>8</td>\n",
       "      <td>Unemployed</td>\n",
       "      <td>86522</td>\n",
       "      <td>0</td>\n",
       "    </tr>\n",
       "    <tr>\n",
       "      <th>20299</th>\n",
       "      <td>Male</td>\n",
       "      <td>23</td>\n",
       "      <td>High Schoolprimary</td>\n",
       "      <td>Low</td>\n",
       "      <td>Alcohol</td>\n",
       "      <td>Rarely</td>\n",
       "      <td>10</td>\n",
       "      <td>1</td>\n",
       "      <td>4</td>\n",
       "      <td>7</td>\n",
       "      <td>Employed</td>\n",
       "      <td>48842</td>\n",
       "      <td>0</td>\n",
       "    </tr>\n",
       "  </tbody>\n",
       "</table>\n",
       "</div>"
      ],
      "text/plain": [
       "       Gender  Age     Education_Level Socio_Economic_Status  \\\n",
       "20295  Female   32                 PhD                  High   \n",
       "20296    Male   26            Bachelor                Middle   \n",
       "20297  Female   44            Bachelor                   Low   \n",
       "20298  Female   25                 NaN                  High   \n",
       "20299    Male   23  High Schoolprimary                   Low   \n",
       "\n",
       "      Type_of_Substance Frequency_of_Use  Duration_of_Use  Quantity_Used  \\\n",
       "20295           Alcohol       Frequently                9              8   \n",
       "20296             Other            Daily                4              3   \n",
       "20297             Other           Rarely                8              6   \n",
       "20298           Alcohol     Occasionally                3              9   \n",
       "20299           Alcohol           Rarely               10              1   \n",
       "\n",
       "       Self_Esteem  Mental_Health  Employment  Income_Level  Drug_User  \n",
       "20295            4              9  Unemployed         20592          1  \n",
       "20296            4              6    Employed         22719          1  \n",
       "20297            4              5  Unemployed         38293          1  \n",
       "20298            7              8  Unemployed         86522          0  \n",
       "20299            4              7    Employed         48842          0  "
      ]
     },
     "execution_count": 2,
     "metadata": {},
     "output_type": "execute_result"
    }
   ],
   "source": [
    "df.tail()"
   ]
  },
  {
   "cell_type": "code",
   "execution_count": 3,
   "id": "2eeb1334-4a7b-484b-826a-f2ae3baa71e7",
   "metadata": {},
   "outputs": [
    {
     "data": {
      "text/plain": [
       "(20300, 13)"
      ]
     },
     "execution_count": 3,
     "metadata": {},
     "output_type": "execute_result"
    }
   ],
   "source": [
    "df.shape"
   ]
  },
  {
   "cell_type": "code",
   "execution_count": 4,
   "id": "b8f71f83-4999-4b92-9f68-903c6d94f7e2",
   "metadata": {},
   "outputs": [
    {
     "data": {
      "text/html": [
       "<div>\n",
       "<style scoped>\n",
       "    .dataframe tbody tr th:only-of-type {\n",
       "        vertical-align: middle;\n",
       "    }\n",
       "\n",
       "    .dataframe tbody tr th {\n",
       "        vertical-align: top;\n",
       "    }\n",
       "\n",
       "    .dataframe thead th {\n",
       "        text-align: right;\n",
       "    }\n",
       "</style>\n",
       "<table border=\"1\" class=\"dataframe\">\n",
       "  <thead>\n",
       "    <tr style=\"text-align: right;\">\n",
       "      <th></th>\n",
       "      <th>Age</th>\n",
       "      <th>Duration_of_Use</th>\n",
       "      <th>Quantity_Used</th>\n",
       "      <th>Self_Esteem</th>\n",
       "      <th>Mental_Health</th>\n",
       "      <th>Income_Level</th>\n",
       "      <th>Drug_User</th>\n",
       "    </tr>\n",
       "  </thead>\n",
       "  <tbody>\n",
       "    <tr>\n",
       "      <th>count</th>\n",
       "      <td>20300.000000</td>\n",
       "      <td>20300.000000</td>\n",
       "      <td>20300.000000</td>\n",
       "      <td>20300.000000</td>\n",
       "      <td>20300.000000</td>\n",
       "      <td>20300.000000</td>\n",
       "      <td>20300.000000</td>\n",
       "    </tr>\n",
       "    <tr>\n",
       "      <th>mean</th>\n",
       "      <td>40.983842</td>\n",
       "      <td>10.012069</td>\n",
       "      <td>4.979754</td>\n",
       "      <td>4.969212</td>\n",
       "      <td>4.998030</td>\n",
       "      <td>60230.235074</td>\n",
       "      <td>0.590936</td>\n",
       "    </tr>\n",
       "    <tr>\n",
       "      <th>std</th>\n",
       "      <td>13.534757</td>\n",
       "      <td>5.459911</td>\n",
       "      <td>2.589971</td>\n",
       "      <td>2.578735</td>\n",
       "      <td>2.585509</td>\n",
       "      <td>23208.133458</td>\n",
       "      <td>0.491673</td>\n",
       "    </tr>\n",
       "    <tr>\n",
       "      <th>min</th>\n",
       "      <td>18.000000</td>\n",
       "      <td>1.000000</td>\n",
       "      <td>1.000000</td>\n",
       "      <td>1.000000</td>\n",
       "      <td>1.000000</td>\n",
       "      <td>20003.000000</td>\n",
       "      <td>0.000000</td>\n",
       "    </tr>\n",
       "    <tr>\n",
       "      <th>25%</th>\n",
       "      <td>29.000000</td>\n",
       "      <td>5.000000</td>\n",
       "      <td>3.000000</td>\n",
       "      <td>3.000000</td>\n",
       "      <td>3.000000</td>\n",
       "      <td>40143.500000</td>\n",
       "      <td>0.000000</td>\n",
       "    </tr>\n",
       "    <tr>\n",
       "      <th>50%</th>\n",
       "      <td>41.000000</td>\n",
       "      <td>10.000000</td>\n",
       "      <td>5.000000</td>\n",
       "      <td>5.000000</td>\n",
       "      <td>5.000000</td>\n",
       "      <td>60447.500000</td>\n",
       "      <td>1.000000</td>\n",
       "    </tr>\n",
       "    <tr>\n",
       "      <th>75%</th>\n",
       "      <td>53.000000</td>\n",
       "      <td>15.000000</td>\n",
       "      <td>7.000000</td>\n",
       "      <td>7.000000</td>\n",
       "      <td>7.000000</td>\n",
       "      <td>80365.500000</td>\n",
       "      <td>1.000000</td>\n",
       "    </tr>\n",
       "    <tr>\n",
       "      <th>max</th>\n",
       "      <td>64.000000</td>\n",
       "      <td>19.000000</td>\n",
       "      <td>9.000000</td>\n",
       "      <td>9.000000</td>\n",
       "      <td>9.000000</td>\n",
       "      <td>99996.000000</td>\n",
       "      <td>1.000000</td>\n",
       "    </tr>\n",
       "  </tbody>\n",
       "</table>\n",
       "</div>"
      ],
      "text/plain": [
       "                Age  Duration_of_Use  Quantity_Used   Self_Esteem  \\\n",
       "count  20300.000000     20300.000000   20300.000000  20300.000000   \n",
       "mean      40.983842        10.012069       4.979754      4.969212   \n",
       "std       13.534757         5.459911       2.589971      2.578735   \n",
       "min       18.000000         1.000000       1.000000      1.000000   \n",
       "25%       29.000000         5.000000       3.000000      3.000000   \n",
       "50%       41.000000        10.000000       5.000000      5.000000   \n",
       "75%       53.000000        15.000000       7.000000      7.000000   \n",
       "max       64.000000        19.000000       9.000000      9.000000   \n",
       "\n",
       "       Mental_Health  Income_Level     Drug_User  \n",
       "count   20300.000000  20300.000000  20300.000000  \n",
       "mean        4.998030  60230.235074      0.590936  \n",
       "std         2.585509  23208.133458      0.491673  \n",
       "min         1.000000  20003.000000      0.000000  \n",
       "25%         3.000000  40143.500000      0.000000  \n",
       "50%         5.000000  60447.500000      1.000000  \n",
       "75%         7.000000  80365.500000      1.000000  \n",
       "max         9.000000  99996.000000      1.000000  "
      ]
     },
     "execution_count": 4,
     "metadata": {},
     "output_type": "execute_result"
    }
   ],
   "source": [
    "df.describe()"
   ]
  },
  {
   "cell_type": "code",
   "execution_count": 5,
   "id": "a62aeb35-61c0-48d0-a459-603bafc17cc9",
   "metadata": {},
   "outputs": [
    {
     "name": "stdout",
     "output_type": "stream",
     "text": [
      "<class 'pandas.core.frame.DataFrame'>\n",
      "RangeIndex: 20300 entries, 0 to 20299\n",
      "Data columns (total 13 columns):\n",
      " #   Column                 Non-Null Count  Dtype \n",
      "---  ------                 --------------  ----- \n",
      " 0   Gender                 20300 non-null  object\n",
      " 1   Age                    20300 non-null  int64 \n",
      " 2   Education_Level        16160 non-null  object\n",
      " 3   Socio_Economic_Status  20300 non-null  object\n",
      " 4   Type_of_Substance      20300 non-null  object\n",
      " 5   Frequency_of_Use       20300 non-null  object\n",
      " 6   Duration_of_Use        20300 non-null  int64 \n",
      " 7   Quantity_Used          20300 non-null  int64 \n",
      " 8   Self_Esteem            20300 non-null  int64 \n",
      " 9   Mental_Health          20300 non-null  int64 \n",
      " 10  Employment             20300 non-null  object\n",
      " 11  Income_Level           20300 non-null  int64 \n",
      " 12  Drug_User              20300 non-null  int64 \n",
      "dtypes: int64(7), object(6)\n",
      "memory usage: 2.0+ MB\n"
     ]
    }
   ],
   "source": [
    "df.info()"
   ]
  },
  {
   "cell_type": "code",
   "execution_count": 6,
   "id": "7ee2e9ca-d852-47af-bb48-4ccb45396de4",
   "metadata": {},
   "outputs": [
    {
     "data": {
      "text/plain": [
       "Index(['Gender', 'Age', 'Education_Level', 'Socio_Economic_Status',\n",
       "       'Type_of_Substance', 'Frequency_of_Use', 'Duration_of_Use',\n",
       "       'Quantity_Used', 'Self_Esteem', 'Mental_Health', 'Employment',\n",
       "       'Income_Level', 'Drug_User'],\n",
       "      dtype='object')"
      ]
     },
     "execution_count": 6,
     "metadata": {},
     "output_type": "execute_result"
    }
   ],
   "source": [
    "df.columns"
   ]
  },
  {
   "cell_type": "code",
   "execution_count": 7,
   "id": "60dd5d74-b9a4-4880-b83c-2ec389dab18d",
   "metadata": {},
   "outputs": [
    {
     "data": {
      "text/plain": [
       "Gender                      0\n",
       "Age                         0\n",
       "Education_Level          4140\n",
       "Socio_Economic_Status       0\n",
       "Type_of_Substance           0\n",
       "Frequency_of_Use            0\n",
       "Duration_of_Use             0\n",
       "Quantity_Used               0\n",
       "Self_Esteem                 0\n",
       "Mental_Health               0\n",
       "Employment                  0\n",
       "Income_Level                0\n",
       "Drug_User                   0\n",
       "dtype: int64"
      ]
     },
     "execution_count": 7,
     "metadata": {},
     "output_type": "execute_result"
    }
   ],
   "source": [
    "df.isnull().sum()"
   ]
  },
  {
   "cell_type": "code",
   "execution_count": 8,
   "id": "0da682e8-b9be-40f2-9a79-32f34dd8f6c4",
   "metadata": {},
   "outputs": [],
   "source": [
    "df.dropna(inplace=True)"
   ]
  },
  {
   "cell_type": "code",
   "execution_count": 9,
   "id": "6763445d-2d24-43e9-8055-8c6d3f512da2",
   "metadata": {},
   "outputs": [
    {
     "data": {
      "text/html": [
       "<div>\n",
       "<style scoped>\n",
       "    .dataframe tbody tr th:only-of-type {\n",
       "        vertical-align: middle;\n",
       "    }\n",
       "\n",
       "    .dataframe tbody tr th {\n",
       "        vertical-align: top;\n",
       "    }\n",
       "\n",
       "    .dataframe thead th {\n",
       "        text-align: right;\n",
       "    }\n",
       "</style>\n",
       "<table border=\"1\" class=\"dataframe\">\n",
       "  <thead>\n",
       "    <tr style=\"text-align: right;\">\n",
       "      <th></th>\n",
       "      <th>Gender</th>\n",
       "      <th>Age</th>\n",
       "      <th>Education_Level</th>\n",
       "      <th>Socio_Economic_Status</th>\n",
       "      <th>Type_of_Substance</th>\n",
       "      <th>Frequency_of_Use</th>\n",
       "      <th>Duration_of_Use</th>\n",
       "      <th>Quantity_Used</th>\n",
       "      <th>Self_Esteem</th>\n",
       "      <th>Mental_Health</th>\n",
       "      <th>Employment</th>\n",
       "      <th>Income_Level</th>\n",
       "      <th>Drug_User</th>\n",
       "    </tr>\n",
       "  </thead>\n",
       "  <tbody>\n",
       "    <tr>\n",
       "      <th>0</th>\n",
       "      <td>Male</td>\n",
       "      <td>35</td>\n",
       "      <td>Master</td>\n",
       "      <td>High</td>\n",
       "      <td>Nicotine</td>\n",
       "      <td>Daily</td>\n",
       "      <td>15</td>\n",
       "      <td>2</td>\n",
       "      <td>4</td>\n",
       "      <td>9</td>\n",
       "      <td>Employed</td>\n",
       "      <td>80598</td>\n",
       "      <td>0</td>\n",
       "    </tr>\n",
       "    <tr>\n",
       "      <th>2</th>\n",
       "      <td>Male</td>\n",
       "      <td>32</td>\n",
       "      <td>Bachelor</td>\n",
       "      <td>Low</td>\n",
       "      <td>Cannabis</td>\n",
       "      <td>Rarely</td>\n",
       "      <td>8</td>\n",
       "      <td>5</td>\n",
       "      <td>8</td>\n",
       "      <td>8</td>\n",
       "      <td>Unemployed</td>\n",
       "      <td>53931</td>\n",
       "      <td>0</td>\n",
       "    </tr>\n",
       "    <tr>\n",
       "      <th>4</th>\n",
       "      <td>Male</td>\n",
       "      <td>41</td>\n",
       "      <td>Master</td>\n",
       "      <td>Middle</td>\n",
       "      <td>Other</td>\n",
       "      <td>Frequently</td>\n",
       "      <td>5</td>\n",
       "      <td>2</td>\n",
       "      <td>5</td>\n",
       "      <td>9</td>\n",
       "      <td>Employed</td>\n",
       "      <td>96997</td>\n",
       "      <td>1</td>\n",
       "    </tr>\n",
       "    <tr>\n",
       "      <th>5</th>\n",
       "      <td>Female</td>\n",
       "      <td>25</td>\n",
       "      <td>PhD</td>\n",
       "      <td>Middle</td>\n",
       "      <td>Alcohol</td>\n",
       "      <td>Frequently</td>\n",
       "      <td>2</td>\n",
       "      <td>7</td>\n",
       "      <td>4</td>\n",
       "      <td>9</td>\n",
       "      <td>Unemployed</td>\n",
       "      <td>99716</td>\n",
       "      <td>1</td>\n",
       "    </tr>\n",
       "    <tr>\n",
       "      <th>6</th>\n",
       "      <td>Male</td>\n",
       "      <td>45</td>\n",
       "      <td>PhD</td>\n",
       "      <td>Middle</td>\n",
       "      <td>Nicotine</td>\n",
       "      <td>Occasionally</td>\n",
       "      <td>10</td>\n",
       "      <td>5</td>\n",
       "      <td>6</td>\n",
       "      <td>6</td>\n",
       "      <td>Unemployed</td>\n",
       "      <td>97523</td>\n",
       "      <td>0</td>\n",
       "    </tr>\n",
       "  </tbody>\n",
       "</table>\n",
       "</div>"
      ],
      "text/plain": [
       "   Gender  Age Education_Level Socio_Economic_Status Type_of_Substance  \\\n",
       "0    Male   35          Master                  High          Nicotine   \n",
       "2    Male   32        Bachelor                   Low          Cannabis   \n",
       "4    Male   41          Master                Middle             Other   \n",
       "5  Female   25             PhD                Middle           Alcohol   \n",
       "6    Male   45             PhD                Middle          Nicotine   \n",
       "\n",
       "  Frequency_of_Use  Duration_of_Use  Quantity_Used  Self_Esteem  \\\n",
       "0            Daily               15              2            4   \n",
       "2           Rarely                8              5            8   \n",
       "4       Frequently                5              2            5   \n",
       "5       Frequently                2              7            4   \n",
       "6     Occasionally               10              5            6   \n",
       "\n",
       "   Mental_Health  Employment  Income_Level  Drug_User  \n",
       "0              9    Employed         80598          0  \n",
       "2              8  Unemployed         53931          0  \n",
       "4              9    Employed         96997          1  \n",
       "5              9  Unemployed         99716          1  \n",
       "6              6  Unemployed         97523          0  "
      ]
     },
     "execution_count": 9,
     "metadata": {},
     "output_type": "execute_result"
    }
   ],
   "source": [
    "sorted_df=df.sort_values(by='Age',ascending=True)\n",
    "df.head()"
   ]
  },
  {
   "cell_type": "code",
   "execution_count": 10,
   "id": "03d99f94-b812-406c-9de8-ca27a1e7640a",
   "metadata": {},
   "outputs": [
    {
     "ename": "AttributeError",
     "evalue": "'DataFrame' object has no attribute 'unique'",
     "output_type": "error",
     "traceback": [
      "\u001b[1;31m---------------------------------------------------------------------------\u001b[0m",
      "\u001b[1;31mAttributeError\u001b[0m                            Traceback (most recent call last)",
      "\u001b[1;32m~\\AppData\\Local\\Temp\\ipykernel_2724\\41981628.py\u001b[0m in \u001b[0;36m?\u001b[1;34m()\u001b[0m\n\u001b[1;32m----> 1\u001b[1;33m \u001b[0mdf\u001b[0m\u001b[1;33m.\u001b[0m\u001b[0munique\u001b[0m\u001b[1;33m\u001b[0m\u001b[1;33m\u001b[0m\u001b[0m\n\u001b[0m",
      "\u001b[1;32mC:\\ProgramData\\anaconda3\\Lib\\site-packages\\pandas\\core\\generic.py\u001b[0m in \u001b[0;36m?\u001b[1;34m(self, name)\u001b[0m\n\u001b[0;32m   6200\u001b[0m             \u001b[1;32mand\u001b[0m \u001b[0mname\u001b[0m \u001b[1;32mnot\u001b[0m \u001b[1;32min\u001b[0m \u001b[0mself\u001b[0m\u001b[1;33m.\u001b[0m\u001b[0m_accessors\u001b[0m\u001b[1;33m\u001b[0m\u001b[1;33m\u001b[0m\u001b[0m\n\u001b[0;32m   6201\u001b[0m             \u001b[1;32mand\u001b[0m \u001b[0mself\u001b[0m\u001b[1;33m.\u001b[0m\u001b[0m_info_axis\u001b[0m\u001b[1;33m.\u001b[0m\u001b[0m_can_hold_identifiers_and_holds_name\u001b[0m\u001b[1;33m(\u001b[0m\u001b[0mname\u001b[0m\u001b[1;33m)\u001b[0m\u001b[1;33m\u001b[0m\u001b[1;33m\u001b[0m\u001b[0m\n\u001b[0;32m   6202\u001b[0m         ):\n\u001b[0;32m   6203\u001b[0m             \u001b[1;32mreturn\u001b[0m \u001b[0mself\u001b[0m\u001b[1;33m[\u001b[0m\u001b[0mname\u001b[0m\u001b[1;33m]\u001b[0m\u001b[1;33m\u001b[0m\u001b[1;33m\u001b[0m\u001b[0m\n\u001b[1;32m-> 6204\u001b[1;33m         \u001b[1;32mreturn\u001b[0m \u001b[0mobject\u001b[0m\u001b[1;33m.\u001b[0m\u001b[0m__getattribute__\u001b[0m\u001b[1;33m(\u001b[0m\u001b[0mself\u001b[0m\u001b[1;33m,\u001b[0m \u001b[0mname\u001b[0m\u001b[1;33m)\u001b[0m\u001b[1;33m\u001b[0m\u001b[1;33m\u001b[0m\u001b[0m\n\u001b[0m",
      "\u001b[1;31mAttributeError\u001b[0m: 'DataFrame' object has no attribute 'unique'"
     ]
    }
   ],
   "source": [
    "df.unique"
   ]
  },
  {
   "cell_type": "code",
   "execution_count": 12,
   "id": "de8e1738-2e30-4c3e-84b7-08ff27f233b0",
   "metadata": {},
   "outputs": [],
   "source": [
    "df.to_csv('drug_usage2',index=False)"
   ]
  },
  {
   "cell_type": "code",
   "execution_count": 13,
   "id": "efb969ab-3d5b-4b4d-a729-29f70120c1f6",
   "metadata": {},
   "outputs": [
    {
     "name": "stdout",
     "output_type": "stream",
     "text": [
      "0        False\n",
      "2        False\n",
      "4        False\n",
      "5        False\n",
      "6        False\n",
      "         ...  \n",
      "20294    False\n",
      "20295    False\n",
      "20296    False\n",
      "20297    False\n",
      "20299    False\n",
      "Length: 16160, dtype: bool\n"
     ]
    }
   ],
   "source": [
    "from scipy import stats\n",
    "duplicates=df.duplicated()\n",
    "print(duplicates)"
   ]
  },
  {
   "cell_type": "code",
   "execution_count": 14,
   "id": "425f6174-a8d0-400a-9527-d556326bc03c",
   "metadata": {},
   "outputs": [
    {
     "name": "stdout",
     "output_type": "stream",
     "text": [
      "Empty DataFrame\n",
      "Columns: [Gender, Age, Education_Level, Socio_Economic_Status, Type_of_Substance, Frequency_of_Use, Duration_of_Use, Quantity_Used, Self_Esteem, Mental_Health, Employment, Income_Level, Drug_User]\n",
      "Index: []\n"
     ]
    }
   ],
   "source": [
    "duplicates_all_columns=df[df.duplicated()]\n",
    "print(duplicates_all_columns)"
   ]
  },
  {
   "cell_type": "code",
   "execution_count": 15,
   "id": "45341ab3-0e8d-4594-9f4b-008719801f6a",
   "metadata": {},
   "outputs": [],
   "source": [
    "df.drop_duplicates(inplace=True)"
   ]
  },
  {
   "cell_type": "code",
   "execution_count": 37,
   "id": "3fb780cb-4698-4176-bd84-8c8b1d36b290",
   "metadata": {},
   "outputs": [
    {
     "name": "stdout",
     "output_type": "stream",
     "text": [
      "<bound method DataFrame.drop_duplicates of           ID  Gender  Age Education_Level Socio_Economic_Status  \\\n",
      "0          1    Male   27     High School                  High   \n",
      "1          2  Female   18        Master's                Medium   \n",
      "2          3    Male   28        Master's                Medium   \n",
      "3          4    Male   37         Primary                  High   \n",
      "4          5    Male   45            none                Medium   \n",
      "...      ...     ...  ...             ...                   ...   \n",
      "64732  64733  Female   31     High School                Medium   \n",
      "64733  64734    Male   38      Bachelor's                   Low   \n",
      "64734  64735  Female   40      Bachelor's                   Low   \n",
      "64735  64736  Female   29      Bachelor's                  High   \n",
      "64736  64737    Male   21         Primary                Medium   \n",
      "\n",
      "        Type_of_Substance Frequency_of_Use Duration_of_Use  Quantity_Used  \\\n",
      "0                 Tobacco            Daily         2 years              7   \n",
      "1      Prescription Drugs          Monthly        0 months              0   \n",
      "2                 Alcohol          Monthly         3 years             14   \n",
      "3                 Tobacco            Daily         2 years              6   \n",
      "4                 Cocaine          Monthly        0 months              0   \n",
      "...                   ...              ...             ...            ...   \n",
      "64732  Prescription Drugs           Weekly        0 months              0   \n",
      "64733           Marijuana           Weekly        0 months              0   \n",
      "64734             Alcohol            Daily        6 months              4   \n",
      "64735             Alcohol          Monthly         2 years             12   \n",
      "64736  Prescription Drugs            Daily        0 months              0   \n",
      "\n",
      "      Self_Esteem Mental_Health  Employment Income_Level  Drug_User  \n",
      "0            High          Good   Part-time          Low          1  \n",
      "1          Medium          Poor   Full-time       Medium          0  \n",
      "2          Medium          Good   Full-time         High          1  \n",
      "3             Low          Fair  Unemployed       Medium          1  \n",
      "4            High          Fair   Part-time       Medium          0  \n",
      "...           ...           ...         ...          ...        ...  \n",
      "64732      Medium          Poor   Part-time         High          0  \n",
      "64733        High          Good  Unemployed         High          0  \n",
      "64734      Medium          Good   Part-time          Low          1  \n",
      "64735        High          Fair  Unemployed       Medium          1  \n",
      "64736         Low          Poor   Full-time         High          0  \n",
      "\n",
      "[64737 rows x 14 columns]>\n"
     ]
    }
   ],
   "source": [
    "df.drop_duplicates\n",
    "clean=df.drop_duplicates\n",
    "print(clean)"
   ]
  },
  {
   "cell_type": "code",
   "execution_count": 16,
   "id": "298f0bae-54c8-4e86-8fcd-4b95ee053e7b",
   "metadata": {},
   "outputs": [
    {
     "data": {
      "text/html": [
       "<div>\n",
       "<style scoped>\n",
       "    .dataframe tbody tr th:only-of-type {\n",
       "        vertical-align: middle;\n",
       "    }\n",
       "\n",
       "    .dataframe tbody tr th {\n",
       "        vertical-align: top;\n",
       "    }\n",
       "\n",
       "    .dataframe thead th {\n",
       "        text-align: right;\n",
       "    }\n",
       "</style>\n",
       "<table border=\"1\" class=\"dataframe\">\n",
       "  <thead>\n",
       "    <tr style=\"text-align: right;\">\n",
       "      <th></th>\n",
       "      <th>Gender</th>\n",
       "      <th>Age</th>\n",
       "      <th>Education_Level</th>\n",
       "      <th>Socio_Economic_Status</th>\n",
       "      <th>Type_of_Substance</th>\n",
       "      <th>Frequency_of_Use</th>\n",
       "      <th>Duration_of_Use</th>\n",
       "      <th>Quantity_Used</th>\n",
       "      <th>Self_Esteem</th>\n",
       "      <th>Mental_Health</th>\n",
       "      <th>Employment</th>\n",
       "      <th>Income_Level</th>\n",
       "      <th>Drug_User</th>\n",
       "    </tr>\n",
       "  </thead>\n",
       "  <tbody>\n",
       "    <tr>\n",
       "      <th>0</th>\n",
       "      <td>Male</td>\n",
       "      <td>35</td>\n",
       "      <td>Master</td>\n",
       "      <td>High</td>\n",
       "      <td>Nicotine</td>\n",
       "      <td>Daily</td>\n",
       "      <td>15</td>\n",
       "      <td>2</td>\n",
       "      <td>4</td>\n",
       "      <td>9</td>\n",
       "      <td>Employed</td>\n",
       "      <td>80598</td>\n",
       "      <td>0</td>\n",
       "    </tr>\n",
       "    <tr>\n",
       "      <th>2</th>\n",
       "      <td>Male</td>\n",
       "      <td>32</td>\n",
       "      <td>Bachelor</td>\n",
       "      <td>Low</td>\n",
       "      <td>Cannabis</td>\n",
       "      <td>Rarely</td>\n",
       "      <td>8</td>\n",
       "      <td>5</td>\n",
       "      <td>8</td>\n",
       "      <td>8</td>\n",
       "      <td>Unemployed</td>\n",
       "      <td>53931</td>\n",
       "      <td>0</td>\n",
       "    </tr>\n",
       "    <tr>\n",
       "      <th>4</th>\n",
       "      <td>Male</td>\n",
       "      <td>41</td>\n",
       "      <td>Master</td>\n",
       "      <td>Middle</td>\n",
       "      <td>Other</td>\n",
       "      <td>Frequently</td>\n",
       "      <td>5</td>\n",
       "      <td>2</td>\n",
       "      <td>5</td>\n",
       "      <td>9</td>\n",
       "      <td>Employed</td>\n",
       "      <td>96997</td>\n",
       "      <td>1</td>\n",
       "    </tr>\n",
       "    <tr>\n",
       "      <th>5</th>\n",
       "      <td>Female</td>\n",
       "      <td>25</td>\n",
       "      <td>PhD</td>\n",
       "      <td>Middle</td>\n",
       "      <td>Alcohol</td>\n",
       "      <td>Frequently</td>\n",
       "      <td>2</td>\n",
       "      <td>7</td>\n",
       "      <td>4</td>\n",
       "      <td>9</td>\n",
       "      <td>Unemployed</td>\n",
       "      <td>99716</td>\n",
       "      <td>1</td>\n",
       "    </tr>\n",
       "    <tr>\n",
       "      <th>6</th>\n",
       "      <td>Male</td>\n",
       "      <td>45</td>\n",
       "      <td>PhD</td>\n",
       "      <td>Middle</td>\n",
       "      <td>Nicotine</td>\n",
       "      <td>Occasionally</td>\n",
       "      <td>10</td>\n",
       "      <td>5</td>\n",
       "      <td>6</td>\n",
       "      <td>6</td>\n",
       "      <td>Unemployed</td>\n",
       "      <td>97523</td>\n",
       "      <td>0</td>\n",
       "    </tr>\n",
       "  </tbody>\n",
       "</table>\n",
       "</div>"
      ],
      "text/plain": [
       "   Gender  Age Education_Level Socio_Economic_Status Type_of_Substance  \\\n",
       "0    Male   35          Master                  High          Nicotine   \n",
       "2    Male   32        Bachelor                   Low          Cannabis   \n",
       "4    Male   41          Master                Middle             Other   \n",
       "5  Female   25             PhD                Middle           Alcohol   \n",
       "6    Male   45             PhD                Middle          Nicotine   \n",
       "\n",
       "  Frequency_of_Use  Duration_of_Use  Quantity_Used  Self_Esteem  \\\n",
       "0            Daily               15              2            4   \n",
       "2           Rarely                8              5            8   \n",
       "4       Frequently                5              2            5   \n",
       "5       Frequently                2              7            4   \n",
       "6     Occasionally               10              5            6   \n",
       "\n",
       "   Mental_Health  Employment  Income_Level  Drug_User  \n",
       "0              9    Employed         80598          0  \n",
       "2              8  Unemployed         53931          0  \n",
       "4              9    Employed         96997          1  \n",
       "5              9  Unemployed         99716          1  \n",
       "6              6  Unemployed         97523          0  "
      ]
     },
     "execution_count": 16,
     "metadata": {},
     "output_type": "execute_result"
    }
   ],
   "source": [
    "df_above_18=df[df['Age']>18]\n",
    "df_above_18.head()"
   ]
  },
  {
   "cell_type": "code",
   "execution_count": 17,
   "id": "2ef78d8a-d54a-4deb-9fdb-89993a8abd71",
   "metadata": {},
   "outputs": [
    {
     "data": {
      "text/html": [
       "<div>\n",
       "<style scoped>\n",
       "    .dataframe tbody tr th:only-of-type {\n",
       "        vertical-align: middle;\n",
       "    }\n",
       "\n",
       "    .dataframe tbody tr th {\n",
       "        vertical-align: top;\n",
       "    }\n",
       "\n",
       "    .dataframe thead th {\n",
       "        text-align: right;\n",
       "    }\n",
       "</style>\n",
       "<table border=\"1\" class=\"dataframe\">\n",
       "  <thead>\n",
       "    <tr style=\"text-align: right;\">\n",
       "      <th></th>\n",
       "      <th>Gender</th>\n",
       "      <th>Age</th>\n",
       "      <th>Education_Level</th>\n",
       "      <th>Socio_Economic_Status</th>\n",
       "      <th>Type_of_Substance</th>\n",
       "      <th>Frequency_of_Use</th>\n",
       "      <th>Duration_of_Use</th>\n",
       "      <th>Quantity_Used</th>\n",
       "      <th>Self_Esteem</th>\n",
       "      <th>Mental_Health</th>\n",
       "      <th>Employment</th>\n",
       "      <th>Income_Level</th>\n",
       "      <th>Drug_User</th>\n",
       "    </tr>\n",
       "  </thead>\n",
       "  <tbody>\n",
       "    <tr>\n",
       "      <th>21</th>\n",
       "      <td>Male</td>\n",
       "      <td>18</td>\n",
       "      <td>PhD</td>\n",
       "      <td>High</td>\n",
       "      <td>Other</td>\n",
       "      <td>Occasionally</td>\n",
       "      <td>17</td>\n",
       "      <td>3</td>\n",
       "      <td>4</td>\n",
       "      <td>8</td>\n",
       "      <td>Employed</td>\n",
       "      <td>51961</td>\n",
       "      <td>0</td>\n",
       "    </tr>\n",
       "    <tr>\n",
       "      <th>107</th>\n",
       "      <td>Female</td>\n",
       "      <td>18</td>\n",
       "      <td>Bachelor</td>\n",
       "      <td>High</td>\n",
       "      <td>Nicotine</td>\n",
       "      <td>Frequently</td>\n",
       "      <td>13</td>\n",
       "      <td>8</td>\n",
       "      <td>5</td>\n",
       "      <td>8</td>\n",
       "      <td>Unemployed</td>\n",
       "      <td>41339</td>\n",
       "      <td>0</td>\n",
       "    </tr>\n",
       "    <tr>\n",
       "      <th>164</th>\n",
       "      <td>Female</td>\n",
       "      <td>18</td>\n",
       "      <td>Master</td>\n",
       "      <td>High</td>\n",
       "      <td>Other</td>\n",
       "      <td>Frequently</td>\n",
       "      <td>2</td>\n",
       "      <td>1</td>\n",
       "      <td>8</td>\n",
       "      <td>3</td>\n",
       "      <td>Employed</td>\n",
       "      <td>24697</td>\n",
       "      <td>1</td>\n",
       "    </tr>\n",
       "    <tr>\n",
       "      <th>256</th>\n",
       "      <td>Male</td>\n",
       "      <td>18</td>\n",
       "      <td>Bachelor</td>\n",
       "      <td>High</td>\n",
       "      <td>Alcohol</td>\n",
       "      <td>Occasionally</td>\n",
       "      <td>15</td>\n",
       "      <td>5</td>\n",
       "      <td>5</td>\n",
       "      <td>5</td>\n",
       "      <td>Unemployed</td>\n",
       "      <td>73380</td>\n",
       "      <td>0</td>\n",
       "    </tr>\n",
       "    <tr>\n",
       "      <th>293</th>\n",
       "      <td>Female</td>\n",
       "      <td>18</td>\n",
       "      <td>Bachelor</td>\n",
       "      <td>Middle</td>\n",
       "      <td>Nicotine</td>\n",
       "      <td>Occasionally</td>\n",
       "      <td>6</td>\n",
       "      <td>5</td>\n",
       "      <td>7</td>\n",
       "      <td>1</td>\n",
       "      <td>Unemployed</td>\n",
       "      <td>52513</td>\n",
       "      <td>0</td>\n",
       "    </tr>\n",
       "  </tbody>\n",
       "</table>\n",
       "</div>"
      ],
      "text/plain": [
       "     Gender  Age Education_Level Socio_Economic_Status Type_of_Substance  \\\n",
       "21     Male   18             PhD                  High             Other   \n",
       "107  Female   18        Bachelor                  High          Nicotine   \n",
       "164  Female   18          Master                  High             Other   \n",
       "256    Male   18        Bachelor                  High           Alcohol   \n",
       "293  Female   18        Bachelor                Middle          Nicotine   \n",
       "\n",
       "    Frequency_of_Use  Duration_of_Use  Quantity_Used  Self_Esteem  \\\n",
       "21      Occasionally               17              3            4   \n",
       "107       Frequently               13              8            5   \n",
       "164       Frequently                2              1            8   \n",
       "256     Occasionally               15              5            5   \n",
       "293     Occasionally                6              5            7   \n",
       "\n",
       "     Mental_Health  Employment  Income_Level  Drug_User  \n",
       "21               8    Employed         51961          0  \n",
       "107              8  Unemployed         41339          0  \n",
       "164              3    Employed         24697          1  \n",
       "256              5  Unemployed         73380          0  \n",
       "293              1  Unemployed         52513          0  "
      ]
     },
     "execution_count": 17,
     "metadata": {},
     "output_type": "execute_result"
    }
   ],
   "source": [
    "df_18_and_less=df[df['Age']<=18]\n",
    "df_18_and_less.head()"
   ]
  },
  {
   "cell_type": "code",
   "execution_count": 18,
   "id": "e0e707d9-8fd5-43dd-9b9e-f7b5cdc7a231",
   "metadata": {},
   "outputs": [
    {
     "data": {
      "text/plain": [
       "Gender\n",
       "Female    8042\n",
       "Male      8118\n",
       "dtype: int64"
      ]
     },
     "execution_count": 18,
     "metadata": {},
     "output_type": "execute_result"
    }
   ],
   "source": [
    "df.groupby('Gender').size()"
   ]
  },
  {
   "cell_type": "code",
   "execution_count": 19,
   "id": "7931e2d9-7c45-4b5c-9f91-17a1d9073bf0",
   "metadata": {},
   "outputs": [
    {
     "data": {
      "text/html": [
       "<div>\n",
       "<style scoped>\n",
       "    .dataframe tbody tr th:only-of-type {\n",
       "        vertical-align: middle;\n",
       "    }\n",
       "\n",
       "    .dataframe tbody tr th {\n",
       "        vertical-align: top;\n",
       "    }\n",
       "\n",
       "    .dataframe thead th {\n",
       "        text-align: right;\n",
       "    }\n",
       "</style>\n",
       "<table border=\"1\" class=\"dataframe\">\n",
       "  <thead>\n",
       "    <tr style=\"text-align: right;\">\n",
       "      <th></th>\n",
       "      <th>Gender</th>\n",
       "      <th>Age</th>\n",
       "      <th>Education_Level</th>\n",
       "      <th>Socio_Economic_Status</th>\n",
       "      <th>Type_of_Substance</th>\n",
       "      <th>Frequency_of_Use</th>\n",
       "      <th>Duration_of_Use</th>\n",
       "      <th>Quantity_Used</th>\n",
       "      <th>Self_Esteem</th>\n",
       "      <th>Mental_Health</th>\n",
       "      <th>Employment</th>\n",
       "      <th>Income_Level</th>\n",
       "      <th>Drug_User</th>\n",
       "      <th>is_adult</th>\n",
       "    </tr>\n",
       "  </thead>\n",
       "  <tbody>\n",
       "    <tr>\n",
       "      <th>0</th>\n",
       "      <td>Male</td>\n",
       "      <td>35</td>\n",
       "      <td>Master</td>\n",
       "      <td>High</td>\n",
       "      <td>Nicotine</td>\n",
       "      <td>Daily</td>\n",
       "      <td>15</td>\n",
       "      <td>2</td>\n",
       "      <td>4</td>\n",
       "      <td>9</td>\n",
       "      <td>Employed</td>\n",
       "      <td>80598</td>\n",
       "      <td>0</td>\n",
       "      <td>Yes</td>\n",
       "    </tr>\n",
       "    <tr>\n",
       "      <th>2</th>\n",
       "      <td>Male</td>\n",
       "      <td>32</td>\n",
       "      <td>Bachelor</td>\n",
       "      <td>Low</td>\n",
       "      <td>Cannabis</td>\n",
       "      <td>Rarely</td>\n",
       "      <td>8</td>\n",
       "      <td>5</td>\n",
       "      <td>8</td>\n",
       "      <td>8</td>\n",
       "      <td>Unemployed</td>\n",
       "      <td>53931</td>\n",
       "      <td>0</td>\n",
       "      <td>Yes</td>\n",
       "    </tr>\n",
       "    <tr>\n",
       "      <th>4</th>\n",
       "      <td>Male</td>\n",
       "      <td>41</td>\n",
       "      <td>Master</td>\n",
       "      <td>Middle</td>\n",
       "      <td>Other</td>\n",
       "      <td>Frequently</td>\n",
       "      <td>5</td>\n",
       "      <td>2</td>\n",
       "      <td>5</td>\n",
       "      <td>9</td>\n",
       "      <td>Employed</td>\n",
       "      <td>96997</td>\n",
       "      <td>1</td>\n",
       "      <td>Yes</td>\n",
       "    </tr>\n",
       "    <tr>\n",
       "      <th>5</th>\n",
       "      <td>Female</td>\n",
       "      <td>25</td>\n",
       "      <td>PhD</td>\n",
       "      <td>Middle</td>\n",
       "      <td>Alcohol</td>\n",
       "      <td>Frequently</td>\n",
       "      <td>2</td>\n",
       "      <td>7</td>\n",
       "      <td>4</td>\n",
       "      <td>9</td>\n",
       "      <td>Unemployed</td>\n",
       "      <td>99716</td>\n",
       "      <td>1</td>\n",
       "      <td>Yes</td>\n",
       "    </tr>\n",
       "    <tr>\n",
       "      <th>6</th>\n",
       "      <td>Male</td>\n",
       "      <td>45</td>\n",
       "      <td>PhD</td>\n",
       "      <td>Middle</td>\n",
       "      <td>Nicotine</td>\n",
       "      <td>Occasionally</td>\n",
       "      <td>10</td>\n",
       "      <td>5</td>\n",
       "      <td>6</td>\n",
       "      <td>6</td>\n",
       "      <td>Unemployed</td>\n",
       "      <td>97523</td>\n",
       "      <td>0</td>\n",
       "      <td>Yes</td>\n",
       "    </tr>\n",
       "  </tbody>\n",
       "</table>\n",
       "</div>"
      ],
      "text/plain": [
       "   Gender  Age Education_Level Socio_Economic_Status Type_of_Substance  \\\n",
       "0    Male   35          Master                  High          Nicotine   \n",
       "2    Male   32        Bachelor                   Low          Cannabis   \n",
       "4    Male   41          Master                Middle             Other   \n",
       "5  Female   25             PhD                Middle           Alcohol   \n",
       "6    Male   45             PhD                Middle          Nicotine   \n",
       "\n",
       "  Frequency_of_Use  Duration_of_Use  Quantity_Used  Self_Esteem  \\\n",
       "0            Daily               15              2            4   \n",
       "2           Rarely                8              5            8   \n",
       "4       Frequently                5              2            5   \n",
       "5       Frequently                2              7            4   \n",
       "6     Occasionally               10              5            6   \n",
       "\n",
       "   Mental_Health  Employment  Income_Level  Drug_User is_adult  \n",
       "0              9    Employed         80598          0      Yes  \n",
       "2              8  Unemployed         53931          0      Yes  \n",
       "4              9    Employed         96997          1      Yes  \n",
       "5              9  Unemployed         99716          1      Yes  \n",
       "6              6  Unemployed         97523          0      Yes  "
      ]
     },
     "execution_count": 19,
     "metadata": {},
     "output_type": "execute_result"
    }
   ],
   "source": [
    "df.loc[df['Age']>=18,'is_adult']='Yes'\n",
    "df.loc[df['Age']<18,'is_adult']='No'\n",
    "df.head()"
   ]
  },
  {
   "cell_type": "code",
   "execution_count": 20,
   "id": "8cef9e5c-42c6-473b-8900-e229c0f96646",
   "metadata": {},
   "outputs": [
    {
     "data": {
      "text/html": [
       "<div>\n",
       "<style scoped>\n",
       "    .dataframe tbody tr th:only-of-type {\n",
       "        vertical-align: middle;\n",
       "    }\n",
       "\n",
       "    .dataframe tbody tr th {\n",
       "        vertical-align: top;\n",
       "    }\n",
       "\n",
       "    .dataframe thead th {\n",
       "        text-align: right;\n",
       "    }\n",
       "</style>\n",
       "<table border=\"1\" class=\"dataframe\">\n",
       "  <thead>\n",
       "    <tr style=\"text-align: right;\">\n",
       "      <th></th>\n",
       "      <th>Gender</th>\n",
       "      <th>Age</th>\n",
       "      <th>Education_Level</th>\n",
       "      <th>Socio_Economic_Status</th>\n",
       "      <th>Type_of_Substance</th>\n",
       "      <th>Frequency_of_Use</th>\n",
       "      <th>Duration_of_Use</th>\n",
       "      <th>Quantity_Used</th>\n",
       "      <th>Self_Esteem</th>\n",
       "      <th>Mental_Health</th>\n",
       "      <th>Employment</th>\n",
       "      <th>Income_Level</th>\n",
       "      <th>Drug_User</th>\n",
       "      <th>is_adult</th>\n",
       "    </tr>\n",
       "  </thead>\n",
       "  <tbody>\n",
       "    <tr>\n",
       "      <th>0</th>\n",
       "      <td>MALE</td>\n",
       "      <td>35</td>\n",
       "      <td>Master</td>\n",
       "      <td>High</td>\n",
       "      <td>Nicotine</td>\n",
       "      <td>Daily</td>\n",
       "      <td>15</td>\n",
       "      <td>2</td>\n",
       "      <td>4</td>\n",
       "      <td>9</td>\n",
       "      <td>Employed</td>\n",
       "      <td>80598</td>\n",
       "      <td>0</td>\n",
       "      <td>Yes</td>\n",
       "    </tr>\n",
       "    <tr>\n",
       "      <th>2</th>\n",
       "      <td>MALE</td>\n",
       "      <td>32</td>\n",
       "      <td>Bachelor</td>\n",
       "      <td>Low</td>\n",
       "      <td>Cannabis</td>\n",
       "      <td>Rarely</td>\n",
       "      <td>8</td>\n",
       "      <td>5</td>\n",
       "      <td>8</td>\n",
       "      <td>8</td>\n",
       "      <td>Unemployed</td>\n",
       "      <td>53931</td>\n",
       "      <td>0</td>\n",
       "      <td>Yes</td>\n",
       "    </tr>\n",
       "    <tr>\n",
       "      <th>4</th>\n",
       "      <td>MALE</td>\n",
       "      <td>41</td>\n",
       "      <td>Master</td>\n",
       "      <td>Middle</td>\n",
       "      <td>Other</td>\n",
       "      <td>Frequently</td>\n",
       "      <td>5</td>\n",
       "      <td>2</td>\n",
       "      <td>5</td>\n",
       "      <td>9</td>\n",
       "      <td>Employed</td>\n",
       "      <td>96997</td>\n",
       "      <td>1</td>\n",
       "      <td>Yes</td>\n",
       "    </tr>\n",
       "    <tr>\n",
       "      <th>5</th>\n",
       "      <td>FEMALE</td>\n",
       "      <td>25</td>\n",
       "      <td>PhD</td>\n",
       "      <td>Middle</td>\n",
       "      <td>Alcohol</td>\n",
       "      <td>Frequently</td>\n",
       "      <td>2</td>\n",
       "      <td>7</td>\n",
       "      <td>4</td>\n",
       "      <td>9</td>\n",
       "      <td>Unemployed</td>\n",
       "      <td>99716</td>\n",
       "      <td>1</td>\n",
       "      <td>Yes</td>\n",
       "    </tr>\n",
       "    <tr>\n",
       "      <th>6</th>\n",
       "      <td>MALE</td>\n",
       "      <td>45</td>\n",
       "      <td>PhD</td>\n",
       "      <td>Middle</td>\n",
       "      <td>Nicotine</td>\n",
       "      <td>Occasionally</td>\n",
       "      <td>10</td>\n",
       "      <td>5</td>\n",
       "      <td>6</td>\n",
       "      <td>6</td>\n",
       "      <td>Unemployed</td>\n",
       "      <td>97523</td>\n",
       "      <td>0</td>\n",
       "      <td>Yes</td>\n",
       "    </tr>\n",
       "  </tbody>\n",
       "</table>\n",
       "</div>"
      ],
      "text/plain": [
       "   Gender  Age Education_Level Socio_Economic_Status Type_of_Substance  \\\n",
       "0    MALE   35          Master                  High          Nicotine   \n",
       "2    MALE   32        Bachelor                   Low          Cannabis   \n",
       "4    MALE   41          Master                Middle             Other   \n",
       "5  FEMALE   25             PhD                Middle           Alcohol   \n",
       "6    MALE   45             PhD                Middle          Nicotine   \n",
       "\n",
       "  Frequency_of_Use  Duration_of_Use  Quantity_Used  Self_Esteem  \\\n",
       "0            Daily               15              2            4   \n",
       "2           Rarely                8              5            8   \n",
       "4       Frequently                5              2            5   \n",
       "5       Frequently                2              7            4   \n",
       "6     Occasionally               10              5            6   \n",
       "\n",
       "   Mental_Health  Employment  Income_Level  Drug_User is_adult  \n",
       "0              9    Employed         80598          0      Yes  \n",
       "2              8  Unemployed         53931          0      Yes  \n",
       "4              9    Employed         96997          1      Yes  \n",
       "5              9  Unemployed         99716          1      Yes  \n",
       "6              6  Unemployed         97523          0      Yes  "
      ]
     },
     "execution_count": 20,
     "metadata": {},
     "output_type": "execute_result"
    }
   ],
   "source": [
    "df['Gender']=df['Gender'].str.upper()# or lower\n",
    "df.head()"
   ]
  },
  {
   "cell_type": "code",
   "execution_count": 43,
   "id": "bad7dbb6-4492-4afb-8ad9-feced8c5fe0f",
   "metadata": {},
   "outputs": [
    {
     "data": {
      "image/png": "[encoded data removed]",
      "text/plain": [
       "<Figure size 800x600 with 1 Axes>"
      ]
     },
     "metadata": {},
     "output_type": "display_data"
    }
   ],
   "source": [
    "import matplotlib.pyplot as plt\n",
    "gender_counts=df['Gender'].value_counts()\n",
    "plt.figure(figsize=(8,6))\n",
    "plt.pie(gender_counts,labels=gender_counts.index,autopct='%1.1f%%',startangle=140)\n",
    "plt.title('Distribution by gender')\n",
    "plt.axis('equal')\n",
    "plt.show()"
   ]
  },
  {
   "cell_type": "code",
   "execution_count": 21,
   "id": "bc404b0b-b88f-45a7-aca8-10fd7c03d766",
   "metadata": {},
   "outputs": [
    {
     "ename": "NameError",
     "evalue": "name 'plt' is not defined",
     "output_type": "error",
     "traceback": [
      "\u001b[1;31m---------------------------------------------------------------------------\u001b[0m",
      "\u001b[1;31mNameError\u001b[0m                                 Traceback (most recent call last)",
      "Cell \u001b[1;32mIn[21], line 2\u001b[0m\n\u001b[0;32m      1\u001b[0m substance_counts\u001b[38;5;241m=\u001b[39mdf[\u001b[38;5;124m'\u001b[39m\u001b[38;5;124mType_of_Substance\u001b[39m\u001b[38;5;124m'\u001b[39m]\u001b[38;5;241m.\u001b[39mvalue_counts()\n\u001b[1;32m----> 2\u001b[0m plt\u001b[38;5;241m.\u001b[39mfigure(figsize\u001b[38;5;241m=\u001b[39m(\u001b[38;5;241m10\u001b[39m,\u001b[38;5;241m6\u001b[39m))\n\u001b[0;32m      3\u001b[0m plt\u001b[38;5;241m.\u001b[39mbar(substance_counts\u001b[38;5;241m.\u001b[39mindex,substance_counts\u001b[38;5;241m.\u001b[39mvalues,color\u001b[38;5;241m=\u001b[39m\u001b[38;5;124m'\u001b[39m\u001b[38;5;124mgrey\u001b[39m\u001b[38;5;124m'\u001b[39m)\n\u001b[0;32m      4\u001b[0m plt\u001b[38;5;241m.\u001b[39mxlabel(\u001b[38;5;124m'\u001b[39m\u001b[38;5;124mSubstance\u001b[39m\u001b[38;5;124m'\u001b[39m)\n",
      "\u001b[1;31mNameError\u001b[0m: name 'plt' is not defined"
     ]
    }
   ],
   "source": [
    "substance_counts=df['Type_of_Substance'].value_counts()\n",
    "plt.figure(figsize=(10,6))\n",
    "plt.bar(substance_counts.index,substance_counts.values,color='grey')\n",
    "plt.xlabel('Substance')\n",
    "plt.ylabel('count')\n",
    "plt.title('Distribution by type of drug used')\n",
    "plt.xticks(rotation=45)#Rotate labels if needed for better readability\n",
    "plt.show()"
   ]
  },
  {
   "cell_type": "code",
   "execution_count": 45,
   "id": "048c902b-fca9-4a14-8064-1ccb0664d21e",
   "metadata": {},
   "outputs": [
    {
     "data": {
      "image/png": "[encoded data removed]",
      "text/plain": [
       "<Figure size 800x600 with 1 Axes>"
      ]
     },
     "metadata": {},
     "output_type": "display_data"
    }
   ],
   "source": [
    "plt.figure(figsize=(8,6))\n",
    "plt.hist(df['Age'],bins=10,color='skyblue',edgecolor='black')\n",
    "plt.title('Distribution of age')\n",
    "plt.xlabel('age')\n",
    "plt.ylabel('frequency')\n",
    "plt.show()"
   ]
  },
  {
   "cell_type": "code",
   "execution_count": 22,
   "id": "805f804b-9a0f-4ab3-b79a-f23f8d6c359c",
   "metadata": {},
   "outputs": [
    {
     "data": {
      "text/plain": [
       "Text(0, 0.5, 'Drug_User')"
      ]
     },
     "execution_count": 22,
     "metadata": {},
     "output_type": "execute_result"
    },
    {
     "data": {
      "image/png": "[encoded data removed]",
      "text/plain": [
       "<Figure size 640x480 with 1 Axes>"
      ]
     },
     "metadata": {},
     "output_type": "display_data"
    }
   ],
   "source": [
    "import pandas as pd\n",
    "import numpy as np\n",
    "import matplotlib.pyplot as plt\n",
    "import seaborn as sns\n",
    "from statsmodels.graphics.mosaicplot import mosaic\n",
    "#load the dataset\n",
    "age_drug_user=df[['Age','Drug_User']]\n",
    "#filter the data for agea greater than 40\n",
    "filtered_data=df[df['Age']>18]\n",
    "#scatterplot using the filtered data\n",
    "plt.scatter(filtered_data['Age'],filtered_data['Drug_User'],color='red')\n",
    "#adding titles and labels\n",
    "plt.title('Age vs.Drug_User (Ages>18)')\n",
    "plt.xlabel('Age(Years)')\n",
    "plt.ylabel('Drug_User')"
   ]
  },
  {
   "cell_type": "code",
   "execution_count": 23,
   "id": "76bf0896-6418-42d4-91e4-8a0390601648",
   "metadata": {},
   "outputs": [
    {
     "data": {
      "image/png": "[encoded data removed]",
      "text/plain": [
       "<Figure size 1200x1200 with 9 Axes>"
      ]
     },
     "metadata": {},
     "output_type": "display_data"
    }
   ],
   "source": [
    "import pandas as pd\n",
    "import seaborn as sns\n",
    "import matplotlib.pyplot as plt\n",
    "sns.set_style('whitegrid')\n",
    "df.head()\n",
    "g=sns.catplot(\n",
    "    data=df,\n",
    "    x='Age',\n",
    "    col='Quantity_Used',\n",
    "    kind='count',\n",
    "    height=4,\n",
    "    aspect=1,\n",
    "    col_wrap=3)\n",
    "g.set_axis_labels('drug usage','Count')\n",
    "g.set_titles('Amount of drug used:{col_name}')\n",
    "g.tight_layout()\n",
    "plt.show()"
   ]
  },
  {
   "cell_type": "code",
   "execution_count": 48,
   "id": "616f7345-0d6f-4be7-8bed-4eeda454f0d2",
   "metadata": {},
   "outputs": [
    {
     "name": "stderr",
     "output_type": "stream",
     "text": [
      "C:\\ProgramData\\anaconda3\\Lib\\site-packages\\seaborn\\_oldcore.py:1119: FutureWarning: use_inf_as_na option is deprecated and will be removed in a future version. Convert inf values to NaN before operating instead.\n",
      "  with pd.option_context('mode.use_inf_as_na', True):\n"
     ]
    },
    {
     "data": {
      "image/png": "[encoded data removed]",
      "text/plain": [
       "<Figure size 640x480 with 1 Axes>"
      ]
     },
     "metadata": {},
     "output_type": "display_data"
    },
    {
     "data": {
      "image/png": "[encoded data removed]",
      "text/plain": [
       "<Figure size 640x480 with 1 Axes>"
      ]
     },
     "metadata": {},
     "output_type": "display_data"
    },
    {
     "ename": "NameError",
     "evalue": "name 'shapiro' is not defined",
     "output_type": "error",
     "traceback": [
      "\u001b[1;31m---------------------------------------------------------------------------\u001b[0m",
      "\u001b[1;31mNameError\u001b[0m                                 Traceback (most recent call last)",
      "Cell \u001b[1;32mIn[48], line 13\u001b[0m\n\u001b[0;32m     11\u001b[0m sm\u001b[38;5;241m.\u001b[39mqqplot(df,line\u001b[38;5;241m=\u001b[39m\u001b[38;5;124m'\u001b[39m\u001b[38;5;124m45\u001b[39m\u001b[38;5;124m'\u001b[39m)\n\u001b[0;32m     12\u001b[0m plt\u001b[38;5;241m.\u001b[39mshow()\n\u001b[1;32m---> 13\u001b[0m shapiro(df)\n",
      "\u001b[1;31mNameError\u001b[0m: name 'shapiro' is not defined"
     ]
    }
   ],
   "source": [
    "import matplotlib.pyplot as plt\n",
    "import seaborn as sns\n",
    "import numpy as np\n",
    "import statsmodels.api as sm\n",
    "df=np.random.randn(1000)\n",
    "sns.histplot(df,bins=30,kde=True,color='lightgreen',edgecolor='red')\n",
    "plt.xlabel('Drug_user')\n",
    "plt.ylabel('Duration_of_Use')\n",
    "plt.title('Customized Histogram with duration of drug usage')\n",
    "plt.show()\n",
    "sm.qqplot(df,line='45')\n",
    "plt.show()\n",
    "shapiro(df)"
   ]
  },
  {
   "cell_type": "code",
   "execution_count": 10,
   "id": "c4dec100-ca5e-4a32-8580-bb9962e841e4",
   "metadata": {},
   "outputs": [
    {
     "name": "stdout",
     "output_type": "stream",
     "text": [
      "Defaulting to user installation because normal site-packages is not writeable\n",
      "Requirement already satisfied: scikit-learn in c:\\programdata\\anaconda3\\lib\\site-packages (1.2.2)\n",
      "Requirement already satisfied: numpy>=1.17.3 in c:\\programdata\\anaconda3\\lib\\site-packages (from scikit-learn) (1.26.4)\n",
      "Requirement already satisfied: scipy>=1.3.2 in c:\\programdata\\anaconda3\\lib\\site-packages (from scikit-learn) (1.11.4)\n",
      "Requirement already satisfied: joblib>=1.1.1 in c:\\programdata\\anaconda3\\lib\\site-packages (from scikit-learn) (1.2.0)\n",
      "Requirement already satisfied: threadpoolctl>=2.0.0 in c:\\programdata\\anaconda3\\lib\\site-packages (from scikit-learn) (2.2.0)\n",
      "Note: you may need to restart the kernel to use updated packages.\n"
     ]
    }
   ],
   "source": [
    "pip install scikit-learn"
   ]
  },
  {
   "cell_type": "code",
   "execution_count": 11,
   "id": "f253e309-9e1e-4b22-a873-f546645cab58",
   "metadata": {},
   "outputs": [],
   "source": [
    "import pandas as pd\n",
    "import numpy as np\n",
    "from sklearn.linear_model import LogisticRegression\n",
    "import matplotlib.pyplot as plt\n",
    "from sklearn.model_selection import train_test_split\n",
    "from sklearn.metrics import accuracy_score, confusion_matrix, classification_report\n",
    "df=pd.read_csv(\"drug_usage2.csv\")"
   ]
  },
  {
   "cell_type": "code",
   "execution_count": 12,
   "id": "f40841e8-a0c0-41fb-bc18-702f00332659",
   "metadata": {},
   "outputs": [],
   "source": [
    "df[\"Gender\"].unique\n",
    "df[\"Gender\"]=pd.get_dummies(df['Gender'],dtype=int,drop_first=True)"
   ]
  },
  {
   "cell_type": "code",
   "execution_count": 13,
   "id": "c2c7aba2-9840-4696-8f3e-6b06452c790a",
   "metadata": {},
   "outputs": [],
   "source": [
    "#remove any leading or trailing whitespace from the column names in the DataFrame, hence preventing errors\n",
    "df.columns = df.columns.str.strip()"
   ]
  },
  {
   "cell_type": "code",
   "execution_count": 14,
   "id": "7ceccedf-4530-47a9-b47e-fe041d750c1c",
   "metadata": {},
   "outputs": [
    {
     "name": "stdout",
     "output_type": "stream",
     "text": [
      "<class 'pandas.core.frame.DataFrame'>\n",
      "RangeIndex: 20300 entries, 0 to 20299\n",
      "Data columns (total 13 columns):\n",
      " #   Column                 Non-Null Count  Dtype \n",
      "---  ------                 --------------  ----- \n",
      " 0   Gender                 20300 non-null  int32 \n",
      " 1   Age                    20300 non-null  int64 \n",
      " 2   Education_Level        16160 non-null  object\n",
      " 3   Socio_Economic_Status  20300 non-null  object\n",
      " 4   Type_of_Substance      20300 non-null  object\n",
      " 5   Frequency_of_Use       20300 non-null  object\n",
      " 6   Duration_of_Use        20300 non-null  int64 \n",
      " 7   Quantity_Used          20300 non-null  int64 \n",
      " 8   Self_Esteem            20300 non-null  int64 \n",
      " 9   Mental_Health          20300 non-null  int64 \n",
      " 10  Employment             20300 non-null  object\n",
      " 11  Income_Level           20300 non-null  int64 \n",
      " 12  Drug_User              20300 non-null  int64 \n",
      "dtypes: int32(1), int64(7), object(5)\n",
      "memory usage: 1.9+ MB\n"
     ]
    }
   ],
   "source": [
    "df[\"Drug_User\"]=pd.to_numeric(df[\"Drug_User\"],errors='coerce')\n",
    "df_cleaned=df.dropna(subset=\"Drug_User\")\n",
    "df.info()"
   ]
  },
  {
   "cell_type": "code",
   "execution_count": 15,
   "id": "2bc0a874-f77d-40af-8cc8-709f9f6845be",
   "metadata": {},
   "outputs": [
    {
     "data": {
      "text/plain": [
       "Gender                      0\n",
       "Age                         0\n",
       "Education_Level          4140\n",
       "Socio_Economic_Status       0\n",
       "Type_of_Substance           0\n",
       "Frequency_of_Use            0\n",
       "Duration_of_Use             0\n",
       "Quantity_Used               0\n",
       "Self_Esteem                 0\n",
       "Mental_Health               0\n",
       "Employment                  0\n",
       "Income_Level                0\n",
       "Drug_User                   0\n",
       "dtype: int64"
      ]
     },
     "execution_count": 15,
     "metadata": {},
     "output_type": "execute_result"
    }
   ],
   "source": [
    "df.isnull().sum()"
   ]
  },
  {
   "cell_type": "code",
   "execution_count": 16,
   "id": "c80a6da5-65a2-4e1a-baad-177b69a50c1e",
   "metadata": {},
   "outputs": [],
   "source": [
    "df.dropna(inplace=True)"
   ]
  },
  {
   "cell_type": "code",
   "execution_count": 17,
   "id": "0f4577c5-bc7e-425c-ba29-a5aa014b3729",
   "metadata": {},
   "outputs": [
    {
     "data": {
      "text/plain": [
       "Gender                   0\n",
       "Age                      0\n",
       "Education_Level          0\n",
       "Socio_Economic_Status    0\n",
       "Type_of_Substance        0\n",
       "Frequency_of_Use         0\n",
       "Duration_of_Use          0\n",
       "Quantity_Used            0\n",
       "Self_Esteem              0\n",
       "Mental_Health            0\n",
       "Employment               0\n",
       "Income_Level             0\n",
       "Drug_User                0\n",
       "dtype: int64"
      ]
     },
     "execution_count": 17,
     "metadata": {},
     "output_type": "execute_result"
    }
   ],
   "source": [
    "df.isnull().sum()"
   ]
  },
  {
   "cell_type": "code",
   "execution_count": 18,
   "id": "557a04bc-89a8-4cf7-9c12-5ce29c8ec364",
   "metadata": {},
   "outputs": [
    {
     "name": "stdout",
     "output_type": "stream",
     "text": [
      "       Age     Education_Level Socio_Economic_Status Type_of_Substance  \\\n",
      "0       35              Master                  High          Nicotine   \n",
      "2       32            Bachelor                   Low          Cannabis   \n",
      "4       41              Master                Middle             Other   \n",
      "5       25                 PhD                Middle           Alcohol   \n",
      "6       45                 PhD                Middle          Nicotine   \n",
      "...    ...                 ...                   ...               ...   \n",
      "20294   30  High Schoolprimary                   Low          Nicotine   \n",
      "20295   32                 PhD                  High           Alcohol   \n",
      "20296   26            Bachelor                Middle             Other   \n",
      "20297   44            Bachelor                   Low             Other   \n",
      "20299   23  High Schoolprimary                   Low           Alcohol   \n",
      "\n",
      "      Frequency_of_Use  Duration_of_Use  Quantity_Used  Self_Esteem  \\\n",
      "0                Daily               15              2            4   \n",
      "2               Rarely                8              5            8   \n",
      "4           Frequently                5              2            5   \n",
      "5           Frequently                2              7            4   \n",
      "6         Occasionally               10              5            6   \n",
      "...                ...              ...            ...          ...   \n",
      "20294     Occasionally                8              4            7   \n",
      "20295       Frequently                9              8            4   \n",
      "20296            Daily                4              3            4   \n",
      "20297           Rarely                8              6            4   \n",
      "20299           Rarely               10              1            4   \n",
      "\n",
      "       Mental_Health  Employment  Income_Level  Drug_User  Gender_0  Gender_1  \n",
      "0                  9    Employed         80598          0     False      True  \n",
      "2                  8  Unemployed         53931          0     False      True  \n",
      "4                  9    Employed         96997          1     False      True  \n",
      "5                  9  Unemployed         99716          1      True     False  \n",
      "6                  6  Unemployed         97523          0     False      True  \n",
      "...              ...         ...           ...        ...       ...       ...  \n",
      "20294              2  Unemployed         56937          1     False      True  \n",
      "20295              9  Unemployed         20592          1      True     False  \n",
      "20296              6    Employed         22719          1     False      True  \n",
      "20297              5  Unemployed         38293          1      True     False  \n",
      "20299              7    Employed         48842          0     False      True  \n",
      "\n",
      "[16160 rows x 14 columns]\n"
     ]
    }
   ],
   "source": [
    "df_encoded = pd.get_dummies(df, columns=['Gender'])\n",
    "print(df_encoded)"
   ]
  },
  {
   "cell_type": "code",
   "execution_count": 19,
   "id": "a6706538-0e17-4442-a2e7-3e96bb38ae13",
   "metadata": {},
   "outputs": [],
   "source": [
    "X=df_cleaned.drop(columns=[\"Drug_User\",\"Frequency_of_Use\"])\n",
    "y=df_cleaned['Drug_User']\n",
    "X=X.to_numpy()\n",
    "y=y.to_numpy()"
   ]
  },
  {
   "cell_type": "code",
   "execution_count": 20,
   "id": "9d1d57c4-eb5e-48ba-aafc-797e004ec8c1",
   "metadata": {},
   "outputs": [
    {
     "name": "stdout",
     "output_type": "stream",
     "text": [
      "   Gender\n",
      "0       1\n",
      "1       0\n",
      "2       0\n",
      "3       1\n"
     ]
    }
   ],
   "source": [
    "from sklearn.preprocessing import LabelEncoder\n",
    "\n",
    "# Sample data\n",
    "data = {'Gender': ['Male', 'Female', 'Female', 'Male']}\n",
    "X_train = pd.DataFrame(data)\n",
    "\n",
    "# Apply Label Encoding\n",
    "le = LabelEncoder()\n",
    "X_train['Gender'] = le.fit_transform(X_train['Gender'])\n",
    "\n",
    "print(X_train)"
   ]
  },
  {
   "cell_type": "code",
   "execution_count": 21,
   "id": "c6413d10-ca50-4b45-9ecf-a782dc74b2ec",
   "metadata": {},
   "outputs": [
    {
     "name": "stdout",
     "output_type": "stream",
     "text": [
      "Gender    0\n",
      "dtype: int64\n"
     ]
    }
   ],
   "source": [
    "print(X_train.isnull().sum())"
   ]
  },
  {
   "cell_type": "code",
   "execution_count": 22,
   "id": "78d01a63-ef13-49d1-8d84-198ff0e877c4",
   "metadata": {},
   "outputs": [],
   "source": [
    "#df['Gender']=df['Gender'].str.upper()\n",
    "#df.head()"
   ]
  },
  {
   "cell_type": "code",
   "execution_count": 23,
   "id": "4ce05de3-31a3-4b40-94e4-b8d80a239c2e",
   "metadata": {},
   "outputs": [],
   "source": [
    "model=LogisticRegression()"
   ]
  },
  {
   "cell_type": "code",
   "execution_count": 24,
   "id": "79404837-59a8-4923-8070-b674e994e4f9",
   "metadata": {},
   "outputs": [],
   "source": [
    "from sklearn.cluster import KMeans\n",
    "from sklearn.compose import ColumnTransformer\n",
    "from sklearn.preprocessing import StandardScaler, OneHotEncoder\n",
    "from sklearn.pipeline import Pipeline\n",
    "\n",
    "# Define categorical and numerical columns\n",
    "categorical_cols = ['Education_Level', 'Socio_Economic_Status', 'Type_of_Substance', 'Frequency_of_Use', 'Self_Esteem', 'Mental_Health','Employment','Income_Level']\n",
    "numerical_cols = [ 'Gender', 'Age', 'Duration_of_Use','Quantity_Used','Drug_User']\n",
    "\n",
    "# Create a ColumnTransformer for preprocessing\n",
    "preprocessor = ColumnTransformer(\n",
    "    transformers=[\n",
    "        ('num', StandardScaler(), numerical_cols),  # Standard scaling for numerical columns\n",
    "        ('cat', OneHotEncoder(), categorical_cols)  # One-hot encoding for categorical columns\n",
    "    ]\n",
    ")"
   ]
  },
  {
   "cell_type": "code",
   "execution_count": 25,
   "id": "b0967598-6e2b-4548-8a35-636b4def8e9f",
   "metadata": {
    "scrolled": true
   },
   "outputs": [
    {
     "name": "stdout",
     "output_type": "stream",
     "text": [
      "(4, 1)\n"
     ]
    },
    {
     "ename": "NameError",
     "evalue": "name 'y_train' is not defined",
     "output_type": "error",
     "traceback": [
      "\u001b[1;31m---------------------------------------------------------------------------\u001b[0m",
      "\u001b[1;31mNameError\u001b[0m                                 Traceback (most recent call last)",
      "Cell \u001b[1;32mIn[25], line 2\u001b[0m\n\u001b[0;32m      1\u001b[0m \u001b[38;5;28mprint\u001b[39m(X_train\u001b[38;5;241m.\u001b[39mshape)\n\u001b[1;32m----> 2\u001b[0m \u001b[38;5;28mprint\u001b[39m(y_train\u001b[38;5;241m.\u001b[39mshape)\n",
      "\u001b[1;31mNameError\u001b[0m: name 'y_train' is not defined"
     ]
    }
   ],
   "source": [
    "\n",
    "print(X_train.shape)\n",
    "print(y_train.shape)"
   ]
  },
  {
   "cell_type": "code",
   "execution_count": 26,
   "id": "be508729-ef22-4eee-82d9-676100ca4653",
   "metadata": {},
   "outputs": [
    {
     "data": {
      "text/html": [
       "<style>#sk-container-id-1 {color: black;background-color: white;}#sk-container-id-1 pre{padding: 0;}#sk-container-id-1 div.sk-toggleable {background-color: white;}#sk-container-id-1 label.sk-toggleable__label {cursor: pointer;display: block;width: 100%;margin-bottom: 0;padding: 0.3em;box-sizing: border-box;text-align: center;}#sk-container-id-1 label.sk-toggleable__label-arrow:before {content: \"▸\";float: left;margin-right: 0.25em;color: #696969;}#sk-container-id-1 label.sk-toggleable__label-arrow:hover:before {color: black;}#sk-container-id-1 div.sk-estimator:hover label.sk-toggleable__label-arrow:before {color: black;}#sk-container-id-1 div.sk-toggleable__content {max-height: 0;max-width: 0;overflow: hidden;text-align: left;background-color: #f0f8ff;}#sk-container-id-1 div.sk-toggleable__content pre {margin: 0.2em;color: black;border-radius: 0.25em;background-color: #f0f8ff;}#sk-container-id-1 input.sk-toggleable__control:checked~div.sk-toggleable__content {max-height: 200px;max-width: 100%;overflow: auto;}#sk-container-id-1 input.sk-toggleable__control:checked~label.sk-toggleable__label-arrow:before {content: \"▾\";}#sk-container-id-1 div.sk-estimator input.sk-toggleable__control:checked~label.sk-toggleable__label {background-color: #d4ebff;}#sk-container-id-1 div.sk-label input.sk-toggleable__control:checked~label.sk-toggleable__label {background-color: #d4ebff;}#sk-container-id-1 input.sk-hidden--visually {border: 0;clip: rect(1px 1px 1px 1px);clip: rect(1px, 1px, 1px, 1px);height: 1px;margin: -1px;overflow: hidden;padding: 0;position: absolute;width: 1px;}#sk-container-id-1 div.sk-estimator {font-family: monospace;background-color: #f0f8ff;border: 1px dotted black;border-radius: 0.25em;box-sizing: border-box;margin-bottom: 0.5em;}#sk-container-id-1 div.sk-estimator:hover {background-color: #d4ebff;}#sk-container-id-1 div.sk-parallel-item::after {content: \"\";width: 100%;border-bottom: 1px solid gray;flex-grow: 1;}#sk-container-id-1 div.sk-label:hover label.sk-toggleable__label {background-color: #d4ebff;}#sk-container-id-1 div.sk-serial::before {content: \"\";position: absolute;border-left: 1px solid gray;box-sizing: border-box;top: 0;bottom: 0;left: 50%;z-index: 0;}#sk-container-id-1 div.sk-serial {display: flex;flex-direction: column;align-items: center;background-color: white;padding-right: 0.2em;padding-left: 0.2em;position: relative;}#sk-container-id-1 div.sk-item {position: relative;z-index: 1;}#sk-container-id-1 div.sk-parallel {display: flex;align-items: stretch;justify-content: center;background-color: white;position: relative;}#sk-container-id-1 div.sk-item::before, #sk-container-id-1 div.sk-parallel-item::before {content: \"\";position: absolute;border-left: 1px solid gray;box-sizing: border-box;top: 0;bottom: 0;left: 50%;z-index: -1;}#sk-container-id-1 div.sk-parallel-item {display: flex;flex-direction: column;z-index: 1;position: relative;background-color: white;}#sk-container-id-1 div.sk-parallel-item:first-child::after {align-self: flex-end;width: 50%;}#sk-container-id-1 div.sk-parallel-item:last-child::after {align-self: flex-start;width: 50%;}#sk-container-id-1 div.sk-parallel-item:only-child::after {width: 0;}#sk-container-id-1 div.sk-dashed-wrapped {border: 1px dashed gray;margin: 0 0.4em 0.5em 0.4em;box-sizing: border-box;padding-bottom: 0.4em;background-color: white;}#sk-container-id-1 div.sk-label label {font-family: monospace;font-weight: bold;display: inline-block;line-height: 1.2em;}#sk-container-id-1 div.sk-label-container {text-align: center;}#sk-container-id-1 div.sk-container {/* jupyter's `normalize.less` sets `[hidden] { display: none; }` but bootstrap.min.css set `[hidden] { display: none !important; }` so we also need the `!important` here to be able to override the default hidden behavior on the sphinx rendered scikit-learn.org. See: https://github.com/scikit-learn/scikit-learn/issues/21755 */display: inline-block !important;position: relative;}#sk-container-id-1 div.sk-text-repr-fallback {display: none;}</style><div id=\"sk-container-id-1\" class=\"sk-top-container\"><div class=\"sk-text-repr-fallback\"><pre>LogisticRegression(max_iter=1000)</pre><b>In a Jupyter environment, please rerun this cell to show the HTML representation or trust the notebook. <br />On GitHub, the HTML representation is unable to render, please try loading this page with nbviewer.org.</b></div><div class=\"sk-container\" hidden><div class=\"sk-item\"><div class=\"sk-estimator sk-toggleable\"><input class=\"sk-toggleable__control sk-hidden--visually\" id=\"sk-estimator-id-1\" type=\"checkbox\" checked><label for=\"sk-estimator-id-1\" class=\"sk-toggleable__label sk-toggleable__label-arrow\">LogisticRegression</label><div class=\"sk-toggleable__content\"><pre>LogisticRegression(max_iter=1000)</pre></div></div></div></div></div>"
      ],
      "text/plain": [
       "LogisticRegression(max_iter=1000)"
      ]
     },
     "execution_count": 26,
     "metadata": {},
     "output_type": "execute_result"
    }
   ],
   "source": [
    "import pandas as pd\n",
    "from sklearn.preprocessing import LabelEncoder, OneHotEncoder\n",
    "from sklearn.model_selection import train_test_split\n",
    "from sklearn.linear_model import LogisticRegression\n",
    "from sklearn.metrics import classification_report, accuracy_score\n",
    "import joblib\n",
    "\n",
    "# Load the Data\n",
    "df = pd.read_csv('drug_usage2')\n",
    "\n",
    "# Feature Selection\n",
    "X = df[['Age','Gender','Education_Level','Socio_Economic_Status', 'Type_of_Substance', \n",
    "        'Frequency_of_Use', 'Duration_of_Use', 'Quantity_Used', 'Self_Esteem',\n",
    "        'Mental_Health','Employment', 'Income_Level']]\n",
    "\n",
    "y = df['Drug_User']  # This is the target variable\n",
    "\n",
    "# Convert categorical variables into dummy/indicator variables\n",
    "X = pd.get_dummies(X, drop_first=True)\n",
    "\n",
    "# Split the Data\n",
    "X_train, X_test, y_train, y_test = train_test_split(X, y, test_size=0.25, random_state=42)\n",
    "\n",
    "# Train a Logistic Regression Model\n",
    "model = LogisticRegression(max_iter=1000)\n",
    "model.fit(X_train, y_train)\n",
    "\n"
   ]
  },
  {
   "cell_type": "code",
   "execution_count": 27,
   "id": "136dbfee-4c0a-41d9-9a5a-845823a78588",
   "metadata": {},
   "outputs": [
    {
     "name": "stdout",
     "output_type": "stream",
     "text": [
      "                               Feature        Score\n",
      "5                         Income_Level  6219.359377\n",
      "2                        Quantity_Used   467.810096\n",
      "4                        Mental_Health   453.551224\n",
      "17             Frequency_of_Use_Rarely   324.539369\n",
      "10           Socio_Economic_Status_Low   274.510380\n",
      "15         Frequency_of_Use_Frequently   259.717446\n",
      "16       Frequency_of_Use_Occasionally   218.036172\n",
      "11        Socio_Economic_Status_Middle    69.223277\n",
      "8               Education_Level_Master     1.714087\n",
      "13          Type_of_Substance_Nicotine     1.543635\n",
      "3                          Self_Esteem     1.271922\n",
      "0                                  Age     1.223891\n",
      "7   Education_Level_High Schoolprimary     0.994771\n",
      "1                      Duration_of_Use     0.739419\n",
      "12          Type_of_Substance_Cannabis     0.604611\n",
      "14             Type_of_Substance_Other     0.487705\n",
      "9                  Education_Level_PhD     0.465565\n",
      "6                          Gender_Male     0.077418\n",
      "18               Employment_Unemployed     0.013520\n"
     ]
    }
   ],
   "source": [
    "from sklearn.feature_selection import SelectKBest, chi2\n",
    "import pandas as pd\n",
    "df = pd.read_csv('drug_usage2')\n",
    "k = 10  # Number of features to select\n",
    "selector = SelectKBest(score_func=chi2, k=k)\n",
    "\n",
    "# Fit the selector on the training data\n",
    "selector.fit(X_train, y_train)\n",
    "\n",
    "# Get the scores of the features\n",
    "scores = selector.scores_\n",
    "features = X.columns\n",
    "\n",
    "# Create a DataFrame to view feature scores\n",
    "feature_scores = pd.DataFrame({'Feature': features, 'Score': scores})\n",
    "print(feature_scores.sort_values(by='Score', ascending=False))\n"
   ]
  },
  {
   "cell_type": "code",
   "execution_count": 28,
   "id": "0c185a84-6fe3-4f7d-b64e-5c094b4c50c7",
   "metadata": {},
   "outputs": [
    {
     "name": "stdout",
     "output_type": "stream",
     "text": [
      "Accuracy: 0.60\n",
      "Classification Report:\n",
      "               precision    recall  f1-score   support\n",
      "\n",
      "           0       0.00      0.00      0.00      1618\n",
      "           1       0.60      1.00      0.75      2422\n",
      "\n",
      "    accuracy                           0.60      4040\n",
      "   macro avg       0.30      0.50      0.37      4040\n",
      "weighted avg       0.36      0.60      0.45      4040\n",
      "\n"
     ]
    },
    {
     "name": "stderr",
     "output_type": "stream",
     "text": [
      "C:\\ProgramData\\anaconda3\\Lib\\site-packages\\sklearn\\metrics\\_classification.py:1344: UndefinedMetricWarning: Precision and F-score are ill-defined and being set to 0.0 in labels with no predicted samples. Use `zero_division` parameter to control this behavior.\n",
      "  _warn_prf(average, modifier, msg_start, len(result))\n",
      "C:\\ProgramData\\anaconda3\\Lib\\site-packages\\sklearn\\metrics\\_classification.py:1344: UndefinedMetricWarning: Precision and F-score are ill-defined and being set to 0.0 in labels with no predicted samples. Use `zero_division` parameter to control this behavior.\n",
      "  _warn_prf(average, modifier, msg_start, len(result))\n",
      "C:\\ProgramData\\anaconda3\\Lib\\site-packages\\sklearn\\metrics\\_classification.py:1344: UndefinedMetricWarning: Precision and F-score are ill-defined and being set to 0.0 in labels with no predicted samples. Use `zero_division` parameter to control this behavior.\n",
      "  _warn_prf(average, modifier, msg_start, len(result))\n"
     ]
    }
   ],
   "source": [
    "# Make Predictions and Evaluate the Model\n",
    "y_pred = model.predict(X_test)\n",
    "accuracy = accuracy_score(y_test, y_pred)\n",
    "report = classification_report(y_test, y_pred)\n",
    "\n",
    "# Output the evaluation results\n",
    "print(f\"Accuracy: {accuracy:.2f}\")\n",
    "print(\"Classification Report:\\n\", report)"
   ]
  },
  {
   "cell_type": "code",
   "execution_count": 29,
   "id": "495d94aa-372b-4197-8fdd-e320d8b5da54",
   "metadata": {},
   "outputs": [
    {
     "data": {
      "image/png": "[encoded data removed]",
      "text/plain": [
       "<Figure size 800x600 with 2 Axes>"
      ]
     },
     "metadata": {},
     "output_type": "display_data"
    }
   ],
   "source": [
    "import matplotlib.pyplot as plt\n",
    "import seaborn as sns\n",
    "#confusion matrix\n",
    "conf_matrix = confusion_matrix(y_test, y_pred)\n",
    "plt.figure(figsize=(8,6))\n",
    "sns.heatmap(conf_matrix, annot=True, fmt='d', cmap='Blues')\n",
    "plt.title('confusion matrix')\n",
    "plt.xlabel('predicted Label')\n",
    "plt.ylabel('True Label')\n",
    "plt.show()"
   ]
  },
  {
   "cell_type": "code",
   "execution_count": null,
   "id": "146cee10-0f6b-4b9c-aba1-bf81a6198ac3",
   "metadata": {},
   "outputs": [],
   "source": []
  }
 ],
 "metadata": {
  "kernelspec": {
   "display_name": "Python 3 (ipykernel)",
   "language": "python",
   "name": "python3"
  },
  "language_info": {
   "codemirror_mode": {
    "name": "ipython",
    "version": 3
   },
   "file_extension": ".py",
   "mimetype": "text/x-python",
   "name": "python",
   "nbconvert_exporter": "python",
   "pygments_lexer": "ipython3",
   "version": "3.11.7"
  }
 },
 "nbformat": 4,
 "nbformat_minor": 5
}
